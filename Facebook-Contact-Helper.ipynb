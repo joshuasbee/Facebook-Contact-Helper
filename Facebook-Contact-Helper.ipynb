{
  "cells": [
    {
      "cell_type": "markdown",
      "metadata": {
        "id": "QbCTwPQXR4iU"
      },
      "source": [
        "**Only run block A when you first open this program**, not every time or you will have issues."
      ]
    },
    {
      "cell_type": "code",
      "execution_count": null,
      "metadata": {
        "id": "cn-_NfawxI73"
      },
      "outputs": [],
      "source": [
        "# Block A\n",
        "# Load the drive helper and mount\n",
        "from google.colab import drive\n",
        "drive.flush_and_unmount()\n",
        "drive.mount('/content/drive/')\n",
        "# Navigate to the FBAB folder which has names.txt inside\n",
        "%cd /content/drive/My Drive/FBAB"
      ]
    },
    {
      "cell_type": "markdown",
      "metadata": {
        "id": "XyZYw13QErrp"
      },
      "source": [
        "<ins>**Paste the names in the block below**</ins>"
      ]
    },
    {
      "cell_type": "code",
      "execution_count": 4,
      "metadata": {
        "colab": {
          "base_uri": "https://localhost:8080/"
        },
        "id": "Bu1Zxp50ylry",
        "outputId": "c7997a4d-7149-4431-b989-a4d77173ffa3"
      },
      "outputs": [
        {
          "output_type": "stream",
          "name": "stdout",
          "text": [
            "['Elias Ab lastname', 'Sikholise lastname', 'Nikita lastname']\n"
          ]
        }
      ],
      "source": [
        "import re\n",
        "# Open the text file and insert it into variable \"namesMaster\"\n",
        "with open('names.txt', 'r') as f:\n",
        "  namesMaster = f.read()\n",
        "# convert str to List\n",
        "namesMaster = namesMaster.split('\\n')\n",
        "# Paste the new names directly into this code cell between the set of these: \"\"\"\n",
        "pasted_data = \"\"\"\n",
        "\n",
        "Elias Ab lastname\n",
        "Sikholise lastname\n",
        "Nikita lastname\n",
        "\n",
        "\"\"\"\n",
        "\n",
        "# Split the pasted data into lines\n",
        "lines = pasted_data.split('\\n')\n",
        "# Filter out empty lines\n",
        "inplist = [line.strip() for line in lines if line.strip()]\n",
        "print(inplist)"
      ]
    },
    {
      "cell_type": "code",
      "execution_count": 10,
      "metadata": {
        "colab": {
          "base_uri": "https://localhost:8080/"
        },
        "id": "dvRE8uwM01Ur",
        "outputId": "383fc0a5-a71b-4cd5-bca9-0fdfaad8687b"
      },
      "outputs": [
        {
          "output_type": "stream",
          "name": "stdout",
          "text": [
            "Copy and paste this into the CTRL + H menu on google sheets, and click use regular expressions:\n",
            "\n",
            "(\\d+\\s*(mutual friends|mutual friend))|^(Message|Add friend|Follow|Invited|Invite|Following\\|Elias\\ Ab\\ lastname|Sikholise\\ lastname|Nikita\\ lastname)\n"
          ]
        }
      ],
      "source": [
        "oldRegx = '(\\d+\\s*(mutual friends|mutual friend))|^(Message|Add friend|Follow|Invited|Invite|Following'\n",
        "msg = 'Copy and paste this into the CTRL + H menu on google sheets, and click use regular expressions:'\n",
        "# Make namesMaster into a set to avoid repeating items\n",
        "namesMasterSet = set(namesMaster)\n",
        "# check for duplicates\n",
        "dupes = namesMasterSet.intersection(inplist)\n",
        "\n",
        "# Create a regular expression pattern to match the duplicated names\n",
        "duplicated_pattern = \"|\".join(re.escape(name) for name in dupes)\n",
        "if dupes:\n",
        "  print(f\"{msg}\\n\\n{oldRegx}\\|{duplicated_pattern})\")\n",
        "else:\n",
        "  print(f'{msg}\\n\\n{oldRegx})')"
      ]
    },
    {
      "cell_type": "code",
      "execution_count": null,
      "metadata": {
        "id": "zFudaq3Z5-WO"
      },
      "outputs": [],
      "source": [
        "#Remove duplicates from input\n",
        "for item in dupes:\n",
        "    if item in inplist:\n",
        "        inplist.remove(item)\n",
        "# Append non duplicates to namesMaster\n",
        "namesMaster.extend(inplist)"
      ]
    },
    {
      "cell_type": "code",
      "execution_count": null,
      "metadata": {
        "id": "fCBON-VD0xHi"
      },
      "outputs": [],
      "source": [
        "# write to a file:\n",
        "with open('names.txt', 'a') as f:\n",
        "    for item in range(len(inplist)):\n",
        "          print(f'{item}: {inplist[item]}')\n",
        "          f.write(f'\\n{inplist[item]}')\n",
        "    print('Done')"
      ]
    }
  ],
  "metadata": {
    "colab": {
      "provenance": []
    },
    "kernelspec": {
      "display_name": "Python 3",
      "name": "python3"
    },
    "language_info": {
      "name": "python"
    }
  },
  "nbformat": 4,
  "nbformat_minor": 0
}